{
 "cells": [
  {
   "cell_type": "code",
   "execution_count": 2,
   "metadata": {},
   "outputs": [
    {
     "ename": "SyntaxError",
     "evalue": "invalid syntax (<ipython-input-2-59106b883695>, line 15)",
     "output_type": "error",
     "traceback": [
      "\u001b[0;36m  File \u001b[0;32m\"<ipython-input-2-59106b883695>\"\u001b[0;36m, line \u001b[0;32m15\u001b[0m\n\u001b[0;31m    drv = ogr.GetDriverByName(\"ESRI Shapefile\")\u001b[0m\n\u001b[0m    ^\u001b[0m\n\u001b[0;31mSyntaxError\u001b[0m\u001b[0;31m:\u001b[0m invalid syntax\n"
     ]
    }
   ],
   "source": [
    "from osgeo import gdal,ogr\n",
    "import sys\n",
    "import os\n",
    "gdal.UseExceptions()\n",
    "os.chdir(path)\n",
    "\n",
    "src_ds = gdal.Open(\"./data/raw_2008_demersal_destructive_fishing_mol_20150714093045.tif\")\n",
    "\n",
    "if src_ds is None:\n",
    "    print (\"Unable to open Worldpop data\")\n",
    "sys.exit(1)\n",
    "\n",
    "try:\n",
    "    srcband = src_ds.GetRasterBand(1)\n",
    "drv = ogr.GetDriverByName(\"ESRI Shapefile\")\n",
    "dst_ds = drv.CreateDataSource(dst_layername + \".shp\")\n",
    "dst_layer = dst_ds.CreateLayer(dst_layername,srs = None)\n",
    "\n",
    "gdal.Polygonize(srcband, None,dst_layer, -1,[],callback = None)"
   ]
  },
  {
   "cell_type": "code",
   "execution_count": null,
   "metadata": {},
   "outputs": [],
   "source": [
    "from osgeo import gdal\n",
    "!gdal_translate -q -of xyz -co ADD_HEADER_LINE=YES -co COLUMN_SEPARATOR=\",\" \\\n",
    "./data/raw_2008_demersal_destructive_fishing_mol_20150714093045.tif /vsistdout | findstr /V /C:\"your_nodata_value\" > output.csv\n",
    "\n",
    "import numpy as np\n",
    "x = np.genfromtxt (r'your_raster.csv', delimiter=\" \", usecols=range(2,3))\n",
    "pos = x[x>0.2]\n",
    "neg = x[x<-0.2]\n",
    "pos.sum(axis=0)\n",
    "neg.sum(axis=0)"
   ]
  }
 ],
 "metadata": {
  "kernelspec": {
   "display_name": "Python 3",
   "language": "python",
   "name": "python3"
  },
  "language_info": {
   "codemirror_mode": {
    "name": "ipython",
    "version": 3
   },
   "file_extension": ".py",
   "mimetype": "text/x-python",
   "name": "python",
   "nbconvert_exporter": "python",
   "pygments_lexer": "ipython3",
   "version": "3.8.5"
  }
 },
 "nbformat": 4,
 "nbformat_minor": 4
}
